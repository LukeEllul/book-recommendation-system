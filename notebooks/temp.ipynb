{
 "cells": [
  {
   "cell_type": "code",
   "execution_count": 46,
   "metadata": {},
   "outputs": [
    {
     "name": "stdout",
     "output_type": "stream",
     "text": [
      "Here is the average area5\n",
      "\n",
      "\n"
     ]
    },
    {
     "data": {
      "text/plain": [
       "11"
      ]
     },
     "execution_count": 46,
     "metadata": {},
     "output_type": "execute_result"
    }
   ],
   "source": [
    "import clips\n",
    "\n",
    "env = clips.Environment()\n",
    "\n",
    "env.build(\"\"\"\n",
    "    (defrule sum-rectangles\n",
    "        (declare (salience 30))\n",
    "        (rectangle ?height ?width)\n",
    "        =>\n",
    "        (assert (add-to-sum = (* ?height ?width))))\n",
    "\"\"\")\n",
    "                  \n",
    "env.build(\n",
    "    \"\"\"\n",
    "    (defrule sum-areas\n",
    "        (declare (salience 20))\n",
    "        ?sum-adr <- (sum ?total)\n",
    "        ?new-area-adr <- (add-to-sum ?area)\n",
    "        ?count-adr <- (count ?counter)\n",
    "        =>\n",
    "        (retract ?sum-adr ?new-area-adr ?count-adr)\n",
    "        (assert (sum = (+ ?total ?area)))\n",
    "        (assert (count = (+ ?counter 1))))\n",
    "    \"\"\"\n",
    ")\n",
    "\n",
    "env.build(\n",
    "    \"\"\"\n",
    "    (defrule average\n",
    "        (declare (salience 10))\n",
    "        ?sum-adr <- (sum ?total)\n",
    "        ?count-adr <- (count ?counter)\n",
    "        =>\n",
    "        (println \"Here is the average area\" ?counter crlf crlf))\n",
    "    \"\"\"\n",
    ")\n",
    "\n",
    "# Assert initial-information facts\n",
    "env.assert_string(\"(rectangle 10 6)\")\n",
    "env.assert_string(\"(rectangle 7 5)\")\n",
    "env.assert_string(\"(rectangle 6 8)\")\n",
    "env.assert_string(\"(rectangle 2 5)\")\n",
    "env.assert_string(\"(rectangle 9 4)\")\n",
    "env.assert_string(\"(sum 0)\")\n",
    "env.assert_string(\"(count 0)\")\n",
    "\n",
    "env.run()"
   ]
  },
  {
   "cell_type": "code",
   "execution_count": null,
   "metadata": {},
   "outputs": [],
   "source": []
  }
 ],
 "metadata": {
  "kernelspec": {
   "display_name": "book_recommender_env",
   "language": "python",
   "name": "python3"
  },
  "language_info": {
   "codemirror_mode": {
    "name": "ipython",
    "version": 3
   },
   "file_extension": ".py",
   "mimetype": "text/x-python",
   "name": "python",
   "nbconvert_exporter": "python",
   "pygments_lexer": "ipython3",
   "version": "3.10.9"
  },
  "orig_nbformat": 4,
  "vscode": {
   "interpreter": {
    "hash": "db022c66d478a19a50288dd4138330b974d1c9a6234ce8b32c4167b2c0fee94d"
   }
  }
 },
 "nbformat": 4,
 "nbformat_minor": 2
}
